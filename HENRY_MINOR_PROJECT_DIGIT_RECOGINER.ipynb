{
  "nbformat": 4,
  "nbformat_minor": 0,
  "metadata": {
    "colab": {
      "name": "HENRY-MINOR-PROJECT-DIGIT-RECOGINER.ipynb",
      "provenance": [],
      "collapsed_sections": [],
      "authorship_tag": "ABX9TyNiMOGYPU1Q1nNgHmwjjv59",
      "include_colab_link": true
    },
    "kernelspec": {
      "name": "python3",
      "display_name": "Python 3"
    },
    "language_info": {
      "name": "python"
    }
  },
  "cells": [
    {
      "cell_type": "markdown",
      "metadata": {
        "id": "view-in-github",
        "colab_type": "text"
      },
      "source": [
        "<a href=\"https://colab.research.google.com/github/chodisettihenry/Labpractice/blob/main/HENRY_MINOR_PROJECT_DIGIT_RECOGINER.ipynb\" target=\"_parent\"><img src=\"https://colab.research.google.com/assets/colab-badge.svg\" alt=\"Open In Colab\"/></a>"
      ]
    },
    {
      "cell_type": "markdown",
      "metadata": {
        "id": "IgI9fplPeAH9"
      },
      "source": [
        "  # NAME:CHODISETTY MATHEW HENRY\n",
        "  # GMAIL:chodisettisatish2248@gmail.com\n",
        "\n",
        "\n"
      ]
    },
    {
      "cell_type": "markdown",
      "metadata": {
        "id": "TOEViLhFey_w"
      },
      "source": [
        "# PROJECT NAME:Artificial Intelligence October Minor Project"
      ]
    },
    {
      "cell_type": "markdown",
      "metadata": {
        "id": "eWb6eo6merCk"
      },
      "source": [
        "# MINOR PROJECT SUBJECT:\n",
        "The goal of this project is to create a model that will be able to recognize and\n",
        "determine the handwritten digits from its image by using the concepts of Artificial\n",
        "Neural Network.\n",
        "Perform a digit classification to correctly identify digits from a dataset of tens of\n",
        "thousands of handwritten images from the MNIST dataset from keras.\n",
        "MNIST database of handwritten digits is used as dataset. It consists of a training set of\n",
        "\n",
        "60,000 examples, and a test set of 10,000 examples. The digits have been size-\n",
        "normalized and centered in a fixed-size image of 28*28 pixels (784 pixels)."
      ]
    },
    {
      "cell_type": "markdown",
      "metadata": {
        "id": "8ENMP0YUg8XD"
      },
      "source": [
        "# Explore MNIST Dataset from Keras"
      ]
    },
    {
      "cell_type": "code",
      "metadata": {
        "id": "4Ek8RSpxhide"
      },
      "source": [
        "import keras\n",
        "import numpy as np\n",
        "import matplotlib.pyplot as plt"
      ],
      "execution_count": 1,
      "outputs": []
    },
    {
      "cell_type": "code",
      "metadata": {
        "colab": {
          "base_uri": "https://localhost:8080/"
        },
        "id": "zjBqAiHxqEjc",
        "outputId": "bcded6f6-578f-4d52-a8e9-94e8388edac7"
      },
      "source": [
        "from keras.datasets import mnist\n",
        "\n",
        "(X_train, y_train), (X_test, y_test) = mnist.load_data()"
      ],
      "execution_count": 2,
      "outputs": [
        {
          "output_type": "stream",
          "name": "stdout",
          "text": [
            "Downloading data from https://storage.googleapis.com/tensorflow/tf-keras-datasets/mnist.npz\n",
            "11493376/11490434 [==============================] - 0s 0us/step\n",
            "11501568/11490434 [==============================] - 0s 0us/step\n"
          ]
        }
      ]
    },
    {
      "cell_type": "code",
      "metadata": {
        "id": "FDGRrCTpqLQ5"
      },
      "source": [
        "%matplotlib inline"
      ],
      "execution_count": 3,
      "outputs": []
    },
    {
      "cell_type": "code",
      "metadata": {
        "colab": {
          "base_uri": "https://localhost:8080/",
          "height": 282
        },
        "id": "8HKXbo2fqRXb",
        "outputId": "08626d73-08bd-4b60-daf9-0382555bb543"
      },
      "source": [
        "import matplotlib.pyplot as plt\n",
        "\n",
        "image_index = 35\n",
        "print(y_train[image_index])\n",
        "plt.imshow(X_train[image_index], cmap='Greys')\n",
        "plt.show()"
      ],
      "execution_count": 4,
      "outputs": [
        {
          "output_type": "stream",
          "name": "stdout",
          "text": [
            "5\n"
          ]
        },
        {
          "output_type": "display_data",
          "data": {
            "image/png": "[encoded data removed]",
            "text/plain": [
              "<Figure size 432x288 with 1 Axes>"
            ]
          },
          "metadata": {
            "needs_background": "light"
          }
        }
      ]
    },
    {
      "cell_type": "code",
      "metadata": {
        "colab": {
          "base_uri": "https://localhost:8080/"
        },
        "id": "-qgO5Xv8qWuO",
        "outputId": "eb34d8fd-a146-496b-e81a-55539fda9ea7"
      },
      "source": [
        "print(X_train.shape)\n",
        "print(X_test.shape)"
      ],
      "execution_count": 5,
      "outputs": [
        {
          "output_type": "stream",
          "name": "stdout",
          "text": [
            "(60000, 28, 28)\n",
            "(10000, 28, 28)\n"
          ]
        }
      ]
    },
    {
      "cell_type": "code",
      "metadata": {
        "colab": {
          "base_uri": "https://localhost:8080/"
        },
        "id": "tefb6VAlqi37",
        "outputId": "decb048d-ed9a-449d-8d07-0eb1a3f22625"
      },
      "source": [
        "print(y_train[:image_index + 1])"
      ],
      "execution_count": 6,
      "outputs": [
        {
          "output_type": "stream",
          "name": "stdout",
          "text": [
            "[5 0 4 1 9 2 1 3 1 4 3 5 3 6 1 7 2 8 6 9 4 0 9 1 1 2 4 3 2 7 3 8 6 9 0 5]\n"
          ]
        }
      ]
    },
    {
      "cell_type": "markdown",
      "metadata": {
        "id": "YNt1H1mriTFU"
      },
      "source": [
        "# Cleaning Data"
      ]
    },
    {
      "cell_type": "code",
      "metadata": {
        "id": "1zXhmLCTqkHO"
      },
      "source": [
        "# save input image dimensions\n",
        "img_rows, img_cols = 28, 28\n",
        "\n",
        "X_train = X_train.reshape(X_train.shape[0], img_rows, img_cols, 1)\n",
        "X_test = X_test.reshape(X_test.shape[0], img_rows, img_cols, 1)\n",
        "\n"
      ],
      "execution_count": 7,
      "outputs": []
    },
    {
      "cell_type": "code",
      "metadata": {
        "id": "uEMu_d-xvXz0"
      },
      "source": [
        "num_classes = 10\n"
      ],
      "execution_count": 8,
      "outputs": []
    },
    {
      "cell_type": "markdown",
      "metadata": {
        "id": "7TjlafhJijdB"
      },
      "source": [
        "#Design a Model"
      ]
    },
    {
      "cell_type": "code",
      "metadata": {
        "id": "AvpWfjTArhPK"
      },
      "source": [
        "from keras.models import Sequential\n",
        "from keras.layers import Dense, Dropout, Flatten, Conv2D, MaxPooling2D\n",
        "\n",
        "model = Sequential()\n",
        "model.add(Conv2D(32, kernel_size=(3, 3),\n",
        "     activation='relu',\n",
        "     input_shape=(img_rows, img_cols, 1)))"
      ],
      "execution_count": 9,
      "outputs": []
    },
    {
      "cell_type": "code",
      "metadata": {
        "id": "uabb-2ikrmKs"
      },
      "source": [
        "model.add(Conv2D(64, (3, 3), activation='relu'))\n",
        "model.add(MaxPooling2D(pool_size=(2, 2)))"
      ],
      "execution_count": 10,
      "outputs": []
    },
    {
      "cell_type": "code",
      "metadata": {
        "id": "FIns7nSKrrC4"
      },
      "source": [
        "model.add(Dropout(0.25))"
      ],
      "execution_count": 11,
      "outputs": []
    },
    {
      "cell_type": "code",
      "metadata": {
        "id": "Q__tj4N5rv4K"
      },
      "source": [
        "model.add(Flatten())"
      ],
      "execution_count": 12,
      "outputs": []
    },
    {
      "cell_type": "code",
      "metadata": {
        "id": "6ujz11frrz_I"
      },
      "source": [
        "model.add(Dense(128, activation='relu'))\n",
        "model.add(Dropout(0.5))\n",
        "model.add(Dense(num_classes, activation='softmax'))"
      ],
      "execution_count": 13,
      "outputs": []
    },
    {
      "cell_type": "markdown",
      "metadata": {
        "id": "CGFe8yDjizk_"
      },
      "source": [
        "# Compile and Train Model"
      ]
    },
    {
      "cell_type": "code",
      "metadata": {
        "id": "ctbn8_f6r473"
      },
      "source": [
        "model.compile(loss='sparse_categorical_crossentropy',\n",
        "      optimizer='adam',\n",
        "      metrics=['accuracy'])"
      ],
      "execution_count": 14,
      "outputs": []
    },
    {
      "cell_type": "code",
      "metadata": {
        "colab": {
          "base_uri": "https://localhost:8080/"
        },
        "id": "YtqnWhJDr9WV",
        "outputId": "942d5ace-605b-41bb-e3b7-c6a572dc9831"
      },
      "source": [
        "batch_size = 128\n",
        "epochs = 10\n",
        "\n",
        "model.fit(X_train, y_train,\n",
        "          batch_size=batch_size,\n",
        "          epochs=epochs,\n",
        "          verbose=1,\n",
        "          validation_data=(X_test, y_test))\n",
        "score = model.evaluate(X_test, y_test, verbose=0)\n",
        "print('Test loss:', score[0])\n",
        "print('Test accuracy:', score[1])\n",
        "model.save(\"test_model.h5\")"
      ],
      "execution_count": 15,
      "outputs": [
        {
          "output_type": "stream",
          "name": "stdout",
          "text": [
            "Epoch 1/10\n",
            "469/469 [==============================] - 149s 315ms/step - loss: 0.7520 - accuracy: 0.8736 - val_loss: 0.0660 - val_accuracy: 0.9806\n",
            "Epoch 2/10\n",
            "469/469 [==============================] - 148s 316ms/step - loss: 0.1576 - accuracy: 0.9535 - val_loss: 0.0551 - val_accuracy: 0.9823\n",
            "Epoch 3/10\n",
            "469/469 [==============================] - 147s 313ms/step - loss: 0.1190 - accuracy: 0.9650 - val_loss: 0.0492 - val_accuracy: 0.9846\n",
            "Epoch 4/10\n",
            "469/469 [==============================] - 147s 313ms/step - loss: 0.0953 - accuracy: 0.9718 - val_loss: 0.0505 - val_accuracy: 0.9847\n",
            "Epoch 5/10\n",
            "469/469 [==============================] - 147s 313ms/step - loss: 0.0836 - accuracy: 0.9750 - val_loss: 0.0420 - val_accuracy: 0.9866\n",
            "Epoch 6/10\n",
            "469/469 [==============================] - 146s 312ms/step - loss: 0.0711 - accuracy: 0.9786 - val_loss: 0.0482 - val_accuracy: 0.9858\n",
            "Epoch 7/10\n",
            "469/469 [==============================] - 148s 315ms/step - loss: 0.0660 - accuracy: 0.9801 - val_loss: 0.0373 - val_accuracy: 0.9895\n",
            "Epoch 8/10\n",
            "469/469 [==============================] - 147s 313ms/step - loss: 0.0585 - accuracy: 0.9822 - val_loss: 0.0440 - val_accuracy: 0.9887\n",
            "Epoch 9/10\n",
            "469/469 [==============================] - 146s 312ms/step - loss: 0.0589 - accuracy: 0.9823 - val_loss: 0.0355 - val_accuracy: 0.9900\n",
            "Epoch 10/10\n",
            "469/469 [==============================] - 147s 313ms/step - loss: 0.0496 - accuracy: 0.9842 - val_loss: 0.0387 - val_accuracy: 0.9896\n",
            "Test loss: 0.038746755570173264\n",
            "Test accuracy: 0.9896000027656555\n"
          ]
        }
      ]
    },
    {
      "cell_type": "markdown",
      "metadata": {
        "id": "6rvAWmg9jA4P"
      },
      "source": [
        "# Test with Handwritten Digits"
      ]
    },
    {
      "cell_type": "code",
      "metadata": {
        "id": "yr1ZLtFLog1i"
      },
      "source": [
        "import imageio\n",
        "import numpy as np\n",
        "from matplotlib import pyplot as plt\n",
        "\n",
        "im = imageio.imread(\"https://i.imgur.com/a3Rql9C.png\")"
      ],
      "execution_count": 16,
      "outputs": []
    },
    {
      "cell_type": "code",
      "metadata": {
        "colab": {
          "base_uri": "https://localhost:8080/",
          "height": 265
        },
        "id": "RiI7Y8djonEj",
        "outputId": "ca3871eb-eb76-4090-aac1-7ab8d59ac6cd"
      },
      "source": [
        "gray = np.dot(im[...,:3], [0.299, 0.587, 0.114])\n",
        "plt.imshow(gray, cmap = plt.get_cmap('gray'))\n",
        "plt.show()"
      ],
      "execution_count": 17,
      "outputs": [
        {
          "output_type": "display_data",
          "data": {
            "image/png": "[encoded data removed]",
            "text/plain": [
              "<Figure size 432x288 with 1 Axes>"
            ]
          },
          "metadata": {
            "needs_background": "light"
          }
        }
      ]
    },
    {
      "cell_type": "code",
      "metadata": {
        "id": "MFv-EcDboscv"
      },
      "source": [
        "# reshape the image\n",
        "gray = gray.reshape(1, img_rows, img_cols, -1)\n",
        "\n",
        "# normalize image\n",
        "gray /= 255"
      ],
      "execution_count": 30,
      "outputs": []
    },
    {
      "cell_type": "markdown",
      "metadata": {
        "id": "XxtUkK16jNQC"
      },
      "source": [
        "# output"
      ]
    },
    {
      "cell_type": "code",
      "metadata": {
        "colab": {
          "base_uri": "https://localhost:8080/"
        },
        "id": "rnmVNNFzo8Bn",
        "outputId": "9a49bfab-6887-4d72-e8e1-284547502324"
      },
      "source": [
        "# load the modelss\n",
        "from keras.models import load_model\n",
        "model = load_model(\"test_model.h5\")\n",
        "\n",
        "# predict digit\n",
        "prediction = model.predict(gray)\n",
        "print(prediction.argmax())"
      ],
      "execution_count": 31,
      "outputs": [
        {
          "output_type": "stream",
          "name": "stdout",
          "text": [
            "8\n"
          ]
        }
      ]
    }
  ]
}
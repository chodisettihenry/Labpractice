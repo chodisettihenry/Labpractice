{
  "nbformat": 4,
  "nbformat_minor": 0,
  "metadata": {
    "colab": {
      "name": "Mathew Henry-Minor-Digits Recognize-Project.ipynb",
      "provenance": [],
      "collapsed_sections": [
        "bPs9LEywFimT",
        "gQZHtG1aHXrJ",
        "OV2w3aYOHggh",
        "QkoPUaFzIGf7"
      ],
      "authorship_tag": "ABX9TyNYzII6+I/eDwupPYetpRgN",
      "include_colab_link": true
    },
    "kernelspec": {
      "name": "python3",
      "display_name": "Python 3"
    },
    "language_info": {
      "name": "python"
    },
    "accelerator": "GPU"
  },
  "cells": [
    {
      "cell_type": "markdown",
      "metadata": {
        "id": "view-in-github",
        "colab_type": "text"
      },
      "source": [
        "<a href=\"https://colab.research.google.com/github/chodisettihenry/Labpractice/blob/main/Mathew_Henry_Minor_Digits_Recognize_Project.ipynb\" target=\"_parent\"><img src=\"https://colab.research.google.com/assets/colab-badge.svg\" alt=\"Open In Colab\"/></a>"
      ]
    },
    {
      "cell_type": "markdown",
      "metadata": {
        "id": "bPs9LEywFimT"
      },
      "source": [
        "  # NAME:CHODISETTY MATHEW HENRY\n",
        "  # GMAIL:chodisettisatish2248@gmail.com\n",
        "\n",
        "\n"
      ]
    },
    {
      "cell_type": "markdown",
      "metadata": {
        "id": "gQZHtG1aHXrJ"
      },
      "source": [
        "# PROJECT NAME:Artificial Intelligence October Minor Project"
      ]
    },
    {
      "cell_type": "markdown",
      "metadata": {
        "id": "OV2w3aYOHggh"
      },
      "source": [
        "# MINOR PROJECT SUBJECT:\n",
        "The goal of this project is to create a model that will be able to recognize and\n",
        "determine the handwritten digits from its image by using the concepts of Artificial Neural Network.\n",
        "Perform a digit classification to correctly identify digits from a dataset of tens of thousands of handwritten images from the MNIST dataset from keras.\n",
        "MNIST database of handwritten digits is used as dataset. It consists of a training set of 60,000 examples, and a test set of 10,000 examples. The digits have been size-normalized and centered in a fixed-size image of 28*28 pixels (784 pixels)."
      ]
    },
    {
      "cell_type": "markdown",
      "metadata": {
        "id": "QkoPUaFzIGf7"
      },
      "source": [
        "# STEPS TO FOLLOW IN Artifical Neural Network To do Project\n",
        " Download the dataset   \n",
        "\n",
        " Visualize the data\n",
        "\n",
        " Normalize the data (divide by 255)\n",
        "\n",
        " Define the neural network(nn) architecture\n",
        "\n",
        " Compile the model \n",
        "\n",
        " Fit the model \n",
        "\n",
        " Predict the output \n",
        "\n",
        " Check the accuracy score \n",
        " \n",
        " Save the model "
      ]
    },
    {
      "cell_type": "markdown",
      "metadata": {
        "id": "sEteVFshqwS9"
      },
      "source": [
        "#import packages"
      ]
    },
    {
      "cell_type": "code",
      "metadata": {
        "id": "9rS52YyVkCPA"
      },
      "source": [
        "import tensorflow as tf"
      ],
      "execution_count": 79,
      "outputs": []
    },
    {
      "cell_type": "markdown",
      "metadata": {
        "id": "kpyvSnhjq4UL"
      },
      "source": [
        "#Dowload the dataset"
      ]
    },
    {
      "cell_type": "code",
      "metadata": {
        "id": "ZRcobYyYteoT"
      },
      "source": [
        "from tensorflow import keras"
      ],
      "execution_count": 80,
      "outputs": []
    },
    {
      "cell_type": "code",
      "metadata": {
        "id": "X1F7g67wvhDi"
      },
      "source": [
        " (x_train,y_train),(x_test,y_test) = tf.keras.datasets.mnist.load_data()"
      ],
      "execution_count": 81,
      "outputs": []
    },
    {
      "cell_type": "code",
      "metadata": {
        "colab": {
          "base_uri": "https://localhost:8080/"
        },
        "id": "BUXe2fHdluGF",
        "outputId": "011d4f9b-04dc-4c35-84a8-4cd9a36e6d0e"
      },
      "source": [
        "print(x_train.shape)\n",
        "print(x_test.shape)"
      ],
      "execution_count": 82,
      "outputs": [
        {
          "output_type": "stream",
          "name": "stdout",
          "text": [
            "(60000, 28, 28)\n",
            "(10000, 28, 28)\n"
          ]
        }
      ]
    },
    {
      "cell_type": "code",
      "metadata": {
        "colab": {
          "base_uri": "https://localhost:8080/"
        },
        "id": "pZ3-sVGHl-BF",
        "outputId": "fffd0fd3-8e9b-4218-b700-2526c6ea9e4c"
      },
      "source": [
        "print(y_train.shape)\n",
        "print(y_test.shape)"
      ],
      "execution_count": 83,
      "outputs": [
        {
          "output_type": "stream",
          "name": "stdout",
          "text": [
            "(60000,)\n",
            "(10000,)\n"
          ]
        }
      ]
    },
    {
      "cell_type": "markdown",
      "metadata": {
        "id": "0DQZ98HurPzY"
      },
      "source": [
        "#visualize the data"
      ]
    },
    {
      "cell_type": "code",
      "metadata": {
        "id": "qDv8jU0JmSvB"
      },
      "source": [
        "import matplotlib.pyplot as plt "
      ],
      "execution_count": 84,
      "outputs": []
    },
    {
      "cell_type": "code",
      "metadata": {
        "colab": {
          "base_uri": "https://localhost:8080/",
          "height": 282
        },
        "id": "NEuOfxvTmX9-",
        "outputId": "1a7e5c9c-9c32-4bcf-81db-ae6c8a79f9c8"
      },
      "source": [
        "i=1750\n",
        "plt.imshow(x_train[i],cmap = 'gray')\n",
        "plt.show()\n",
        "print(f\"output : {[y_train[i]]}\")"
      ],
      "execution_count": 85,
      "outputs": [
        {
          "output_type": "display_data",
          "data": {
            "image/png": "[encoded data removed]",
            "text/plain": [
              "<Figure size 432x288 with 1 Axes>"
            ]
          },
          "metadata": {
            "needs_background": "light"
          }
        },
        {
          "output_type": "stream",
          "name": "stdout",
          "text": [
            "output : [6]\n"
          ]
        }
      ]
    },
    {
      "cell_type": "code",
      "metadata": {
        "colab": {
          "base_uri": "https://localhost:8080/"
        },
        "id": "pIjerSxxx83x",
        "outputId": "bce7eaf1-ed80-4b5c-ebe1-b1b6d7d6e319"
      },
      "source": [
        "x_train"
      ],
      "execution_count": 86,
      "outputs": [
        {
          "output_type": "execute_result",
          "data": {
            "text/plain": [
              "array([[[0, 0, 0, ..., 0, 0, 0],\n",
              "        [0, 0, 0, ..., 0, 0, 0],\n",
              "        [0, 0, 0, ..., 0, 0, 0],\n",
              "        ...,\n",
              "        [0, 0, 0, ..., 0, 0, 0],\n",
              "        [0, 0, 0, ..., 0, 0, 0],\n",
              "        [0, 0, 0, ..., 0, 0, 0]],\n",
              "\n",
              "       [[0, 0, 0, ..., 0, 0, 0],\n",
              "        [0, 0, 0, ..., 0, 0, 0],\n",
              "        [0, 0, 0, ..., 0, 0, 0],\n",
              "        ...,\n",
              "        [0, 0, 0, ..., 0, 0, 0],\n",
              "        [0, 0, 0, ..., 0, 0, 0],\n",
              "        [0, 0, 0, ..., 0, 0, 0]],\n",
              "\n",
              "       [[0, 0, 0, ..., 0, 0, 0],\n",
              "        [0, 0, 0, ..., 0, 0, 0],\n",
              "        [0, 0, 0, ..., 0, 0, 0],\n",
              "        ...,\n",
              "        [0, 0, 0, ..., 0, 0, 0],\n",
              "        [0, 0, 0, ..., 0, 0, 0],\n",
              "        [0, 0, 0, ..., 0, 0, 0]],\n",
              "\n",
              "       ...,\n",
              "\n",
              "       [[0, 0, 0, ..., 0, 0, 0],\n",
              "        [0, 0, 0, ..., 0, 0, 0],\n",
              "        [0, 0, 0, ..., 0, 0, 0],\n",
              "        ...,\n",
              "        [0, 0, 0, ..., 0, 0, 0],\n",
              "        [0, 0, 0, ..., 0, 0, 0],\n",
              "        [0, 0, 0, ..., 0, 0, 0]],\n",
              "\n",
              "       [[0, 0, 0, ..., 0, 0, 0],\n",
              "        [0, 0, 0, ..., 0, 0, 0],\n",
              "        [0, 0, 0, ..., 0, 0, 0],\n",
              "        ...,\n",
              "        [0, 0, 0, ..., 0, 0, 0],\n",
              "        [0, 0, 0, ..., 0, 0, 0],\n",
              "        [0, 0, 0, ..., 0, 0, 0]],\n",
              "\n",
              "       [[0, 0, 0, ..., 0, 0, 0],\n",
              "        [0, 0, 0, ..., 0, 0, 0],\n",
              "        [0, 0, 0, ..., 0, 0, 0],\n",
              "        ...,\n",
              "        [0, 0, 0, ..., 0, 0, 0],\n",
              "        [0, 0, 0, ..., 0, 0, 0],\n",
              "        [0, 0, 0, ..., 0, 0, 0]]], dtype=uint8)"
            ]
          },
          "metadata": {},
          "execution_count": 86
        }
      ]
    },
    {
      "cell_type": "code",
      "metadata": {
        "colab": {
          "base_uri": "https://localhost:8080/"
        },
        "id": "QZSt0yIynXfB",
        "outputId": "063505e9-0630-4a3c-b41f-bded8a0f25c0"
      },
      "source": [
        "y_train"
      ],
      "execution_count": 87,
      "outputs": [
        {
          "output_type": "execute_result",
          "data": {
            "text/plain": [
              "array([5, 0, 4, ..., 5, 6, 8], dtype=uint8)"
            ]
          },
          "metadata": {},
          "execution_count": 87
        }
      ]
    },
    {
      "cell_type": "code",
      "metadata": {
        "colab": {
          "base_uri": "https://localhost:8080/"
        },
        "id": "CR06hi5JySir",
        "outputId": "2634f24a-8045-42de-df4c-2db019d053a4"
      },
      "source": [
        "y_train[10:40]"
      ],
      "execution_count": 88,
      "outputs": [
        {
          "output_type": "execute_result",
          "data": {
            "text/plain": [
              "array([3, 5, 3, 6, 1, 7, 2, 8, 6, 9, 4, 0, 9, 1, 1, 2, 4, 3, 2, 7, 3, 8,\n",
              "       6, 9, 0, 5, 6, 0, 7, 6], dtype=uint8)"
            ]
          },
          "metadata": {},
          "execution_count": 88
        }
      ]
    },
    {
      "cell_type": "code",
      "metadata": {
        "colab": {
          "base_uri": "https://localhost:8080/"
        },
        "id": "-7SfYeRnya-D",
        "outputId": "86062562-663f-433e-a088-b612ceda3b89"
      },
      "source": [
        "x_train.max()"
      ],
      "execution_count": 89,
      "outputs": [
        {
          "output_type": "execute_result",
          "data": {
            "text/plain": [
              "255"
            ]
          },
          "metadata": {},
          "execution_count": 89
        }
      ]
    },
    {
      "cell_type": "code",
      "metadata": {
        "colab": {
          "base_uri": "https://localhost:8080/"
        },
        "id": "pdwxWtREyhwu",
        "outputId": "70946ef2-1e83-4b2d-8b3e-b1dbaa54b9ab"
      },
      "source": [
        "x_train.min()"
      ],
      "execution_count": 90,
      "outputs": [
        {
          "output_type": "execute_result",
          "data": {
            "text/plain": [
              "0"
            ]
          },
          "metadata": {},
          "execution_count": 90
        }
      ]
    },
    {
      "cell_type": "code",
      "metadata": {
        "colab": {
          "base_uri": "https://localhost:8080/"
        },
        "id": "afCvNTFYy2WQ",
        "outputId": "784171a6-6856-48f7-9219-22b3a6edbfc1"
      },
      "source": [
        "x_test.max()"
      ],
      "execution_count": 91,
      "outputs": [
        {
          "output_type": "execute_result",
          "data": {
            "text/plain": [
              "255"
            ]
          },
          "metadata": {},
          "execution_count": 91
        }
      ]
    },
    {
      "cell_type": "code",
      "metadata": {
        "colab": {
          "base_uri": "https://localhost:8080/"
        },
        "id": "tgcaQTkozB-F",
        "outputId": "461d180d-13de-44b0-b6e1-ef7175511268"
      },
      "source": [
        "x_test.min()"
      ],
      "execution_count": 92,
      "outputs": [
        {
          "output_type": "execute_result",
          "data": {
            "text/plain": [
              "0"
            ]
          },
          "metadata": {},
          "execution_count": 92
        }
      ]
    },
    {
      "cell_type": "markdown",
      "metadata": {
        "id": "9M-zpcxZyuNJ"
      },
      "source": [
        "#Normalize the Data to required range()"
      ]
    },
    {
      "cell_type": "code",
      "metadata": {
        "id": "b3dvlFxMz3dH"
      },
      "source": [
        "x_train = x_train/255\n",
        "x_test = x_test/255"
      ],
      "execution_count": 93,
      "outputs": []
    },
    {
      "cell_type": "markdown",
      "metadata": {
        "id": "RKjn3uwV0PE-"
      },
      "source": [
        "NOW checking "
      ]
    },
    {
      "cell_type": "code",
      "metadata": {
        "colab": {
          "base_uri": "https://localhost:8080/"
        },
        "id": "WpdSGgwP0eW7",
        "outputId": "81432ba0-2879-4c9f-a474-77b7c4c03895"
      },
      "source": [
        "x_train.max()"
      ],
      "execution_count": 94,
      "outputs": [
        {
          "output_type": "execute_result",
          "data": {
            "text/plain": [
              "1.0"
            ]
          },
          "metadata": {},
          "execution_count": 94
        }
      ]
    },
    {
      "cell_type": "code",
      "metadata": {
        "colab": {
          "base_uri": "https://localhost:8080/"
        },
        "id": "ehsx6ZDr0Lal",
        "outputId": "53afdcbe-6b80-448f-9987-eb30fa81b1cb"
      },
      "source": [
        "x_train.min()"
      ],
      "execution_count": 95,
      "outputs": [
        {
          "output_type": "execute_result",
          "data": {
            "text/plain": [
              "0.0"
            ]
          },
          "metadata": {},
          "execution_count": 95
        }
      ]
    },
    {
      "cell_type": "code",
      "metadata": {
        "colab": {
          "base_uri": "https://localhost:8080/"
        },
        "id": "ZiXGnegM05EN",
        "outputId": "ab307089-6da5-4c29-88ee-b9643758a2c4"
      },
      "source": [
        "x_test.max()"
      ],
      "execution_count": 96,
      "outputs": [
        {
          "output_type": "execute_result",
          "data": {
            "text/plain": [
              "1.0"
            ]
          },
          "metadata": {},
          "execution_count": 96
        }
      ]
    },
    {
      "cell_type": "code",
      "metadata": {
        "colab": {
          "base_uri": "https://localhost:8080/"
        },
        "id": "Yo9RhwYl1aVX",
        "outputId": "7df3bc43-fce3-4dbb-ccdc-499ad3261000"
      },
      "source": [
        "x_test.min()"
      ],
      "execution_count": 97,
      "outputs": [
        {
          "output_type": "execute_result",
          "data": {
            "text/plain": [
              "0.0"
            ]
          },
          "metadata": {},
          "execution_count": 97
        }
      ]
    },
    {
      "cell_type": "markdown",
      "metadata": {
        "id": "VkZj1OB014Kw"
      },
      "source": [
        "28*28 is the [784] are the input neurons number"
      ]
    },
    {
      "cell_type": "code",
      "metadata": {
        "colab": {
          "base_uri": "https://localhost:8080/"
        },
        "id": "vJopRit01ePe",
        "outputId": "e8dc3230-3fa5-42a6-b859-d7d1ca28e963"
      },
      "source": [
        "28*28"
      ],
      "execution_count": 98,
      "outputs": [
        {
          "output_type": "execute_result",
          "data": {
            "text/plain": [
              "784"
            ]
          },
          "metadata": {},
          "execution_count": 98
        }
      ]
    },
    {
      "cell_type": "markdown",
      "metadata": {
        "id": "gtnmkxnH4Stk"
      },
      "source": [
        "#Load the Model"
      ]
    },
    {
      "cell_type": "markdown",
      "metadata": {
        "id": "7Po3bjug2WyT"
      },
      "source": [
        "Defining the Neural Network Architecture \n",
        "\n",
        "Using a Functional API"
      ]
    },
    {
      "cell_type": "code",
      "metadata": {
        "id": "X2Ckh4Ot2PSO"
      },
      "source": [
        "#create a nn (add neurons for the model)\n",
        "model = keras.Sequential()\n",
        "\n",
        "#we are flattening out the input image data (28*28) = 784 neurons \n",
        "model.add(keras.layers.Flatten(input_shape=x_train[0].shape))\n",
        "\n",
        "#output layer neurons , activation function\n",
        "model.add(keras.layers.Dense(532,activation = 'relu')) \n",
        "\n",
        "#hidden layer activation function\n",
        "model.add(keras.layers.Dense(10,activation = 'softmax'))                        "
      ],
      "execution_count": 99,
      "outputs": []
    },
    {
      "cell_type": "markdown",
      "metadata": {
        "id": "xI05cpIZKI7-"
      },
      "source": [
        "Model Summary"
      ]
    },
    {
      "cell_type": "code",
      "metadata": {
        "colab": {
          "base_uri": "https://localhost:8080/"
        },
        "id": "fEoZK94w600Q",
        "outputId": "c319cb4d-1256-4f29-c57d-a9328ee5dfd6"
      },
      "source": [
        "model.summary()"
      ],
      "execution_count": 100,
      "outputs": [
        {
          "output_type": "stream",
          "name": "stdout",
          "text": [
            "Model: \"sequential_2\"\n",
            "_________________________________________________________________\n",
            " Layer (type)                Output Shape              Param #   \n",
            "=================================================================\n",
            " flatten_2 (Flatten)         (None, 784)               0         \n",
            "                                                                 \n",
            " dense_4 (Dense)             (None, 532)               417620    \n",
            "                                                                 \n",
            " dense_5 (Dense)             (None, 10)                5330      \n",
            "                                                                 \n",
            "=================================================================\n",
            "Total params: 422,950\n",
            "Trainable params: 422,950\n",
            "Non-trainable params: 0\n",
            "_________________________________________________________________\n"
          ]
        }
      ]
    },
    {
      "cell_type": "markdown",
      "metadata": {
        "id": "CBtOemUM9Vxk"
      },
      "source": [
        "#Compile the Model"
      ]
    },
    {
      "cell_type": "code",
      "metadata": {
        "id": "Farb2_kX1sSq"
      },
      "source": [
        "model.compile(optimizer = 'adam', loss = 'sparse_categorical_crossentropy')"
      ],
      "execution_count": 101,
      "outputs": []
    },
    {
      "cell_type": "markdown",
      "metadata": {
        "id": "HbGUpOey9n2Z"
      },
      "source": [
        "#Fit the Model"
      ]
    },
    {
      "cell_type": "code",
      "metadata": {
        "colab": {
          "base_uri": "https://localhost:8080/"
        },
        "id": "F58xAzMYA4iF",
        "outputId": "7bc93aa2-e4f4-4472-8362-9a9df2deb543"
      },
      "source": [
        "60000/1875"
      ],
      "execution_count": 102,
      "outputs": [
        {
          "output_type": "execute_result",
          "data": {
            "text/plain": [
              "32.0"
            ]
          },
          "metadata": {},
          "execution_count": 102
        }
      ]
    },
    {
      "cell_type": "code",
      "metadata": {
        "colab": {
          "base_uri": "https://localhost:8080/"
        },
        "id": "JfBH7uLd9w6-",
        "outputId": "4f66816a-69cd-4b49-e2e8-107e0eaa4e65"
      },
      "source": [
        "model.fit(x_train,y_train, epochs = 20) \n",
        "#model has to train 60000 values \n",
        "#batch size = 32 \n",
        "# 1875 values in each epoch "
      ],
      "execution_count": 103,
      "outputs": [
        {
          "output_type": "stream",
          "name": "stdout",
          "text": [
            "Epoch 1/20\n",
            "1875/1875 [==============================] - 5s 3ms/step - loss: 0.1993\n",
            "Epoch 2/20\n",
            "1875/1875 [==============================] - 5s 3ms/step - loss: 0.0791\n",
            "Epoch 3/20\n",
            "1875/1875 [==============================] - 5s 3ms/step - loss: 0.0519\n",
            "Epoch 4/20\n",
            "1875/1875 [==============================] - 5s 3ms/step - loss: 0.0369\n",
            "Epoch 5/20\n",
            "1875/1875 [==============================] - 5s 3ms/step - loss: 0.0280\n",
            "Epoch 6/20\n",
            "1875/1875 [==============================] - 5s 3ms/step - loss: 0.0210\n",
            "Epoch 7/20\n",
            "1875/1875 [==============================] - 5s 3ms/step - loss: 0.0170\n",
            "Epoch 8/20\n",
            "1875/1875 [==============================] - 5s 3ms/step - loss: 0.0135\n",
            "Epoch 9/20\n",
            "1875/1875 [==============================] - 5s 3ms/step - loss: 0.0121\n",
            "Epoch 10/20\n",
            "1875/1875 [==============================] - 5s 3ms/step - loss: 0.0104\n",
            "Epoch 11/20\n",
            "1875/1875 [==============================] - 5s 3ms/step - loss: 0.0086\n",
            "Epoch 12/20\n",
            "1875/1875 [==============================] - 5s 3ms/step - loss: 0.0111\n",
            "Epoch 13/20\n",
            "1875/1875 [==============================] - 5s 3ms/step - loss: 0.0062\n",
            "Epoch 14/20\n",
            "1875/1875 [==============================] - 5s 3ms/step - loss: 0.0088\n",
            "Epoch 15/20\n",
            "1875/1875 [==============================] - 5s 3ms/step - loss: 0.0072\n",
            "Epoch 16/20\n",
            "1875/1875 [==============================] - 5s 3ms/step - loss: 0.0073\n",
            "Epoch 17/20\n",
            "1875/1875 [==============================] - 5s 3ms/step - loss: 0.0049\n",
            "Epoch 18/20\n",
            "1875/1875 [==============================] - 5s 3ms/step - loss: 0.0082\n",
            "Epoch 19/20\n",
            "1875/1875 [==============================] - 5s 3ms/step - loss: 0.0057\n",
            "Epoch 20/20\n",
            "1875/1875 [==============================] - 5s 3ms/step - loss: 0.0073\n"
          ]
        },
        {
          "output_type": "execute_result",
          "data": {
            "text/plain": [
              "<keras.callbacks.History at 0x7f91e1e19650>"
            ]
          },
          "metadata": {},
          "execution_count": 103
        }
      ]
    },
    {
      "cell_type": "code",
      "metadata": {
        "colab": {
          "base_uri": "https://localhost:8080/"
        },
        "id": "zpQolJRNKZ_F",
        "outputId": "5bc58c75-25d9-4229-c0a3-54a4ec1d3288"
      },
      "source": [
        "#Evaluate the Model to excustion the given code.\n",
        "print(model.evaluate(x_test, y_test))"
      ],
      "execution_count": 104,
      "outputs": [
        {
          "output_type": "stream",
          "name": "stdout",
          "text": [
            "313/313 [==============================] - 1s 3ms/step - loss: 0.1334\n",
            "0.1334373503923416\n"
          ]
        }
      ]
    },
    {
      "cell_type": "code",
      "metadata": {
        "colab": {
          "base_uri": "https://localhost:8080/"
        },
        "id": "bLnEIWeiKgVa",
        "outputId": "6a133a17-5e27-42d0-d156-f892f2b6a0e1"
      },
      "source": [
        "#Predicting First 10 test images for as a input data\n",
        "pred = model.predict(x_test[:10])\n",
        "# print(pred)\n",
        "p=np.argmax(pred, axis=1)\n",
        "print(p)                    #p is the predected value\n",
        "print(y_test[:10]) #so covert the code to original value"
      ],
      "execution_count": 105,
      "outputs": [
        {
          "output_type": "stream",
          "name": "stdout",
          "text": [
            "[7 2 1 0 4 1 4 9 5 9]\n",
            "[7 2 1 0 4 1 4 9 5 9]\n"
          ]
        }
      ]
    },
    {
      "cell_type": "code",
      "metadata": {
        "colab": {
          "base_uri": "https://localhost:8080/",
          "height": 1000
        },
        "id": "L1I-PWIVKp5I",
        "outputId": "d13fd20c-9a0a-4430-aec8-85680a3ab9e0"
      },
      "source": [
        "#Visualizing prediction data as a output in bellow display path..\n",
        "for i in range(10):\n",
        "  plt.imshow(x_test[i], cmap='gray') #we can use not only gray scale (or)we can binary also\n",
        "  plt.title(\"Original: {}, Predicted: {}\".format(y_test[i], p[i]))\n",
        "  #it is on (or) off function [\"To see the predicted value \"]\n",
        "  plt.axis(\"on\") \n",
        "  plt.figure()"
      ],
      "execution_count": 106,
      "outputs": [
        {
          "output_type": "display_data",
          "data": {
            "image/png": "[encoded data removed]",
            "text/plain": [
              "<Figure size 432x288 with 1 Axes>"
            ]
          },
          "metadata": {
            "needs_background": "light"
          }
        },
        {
          "output_type": "display_data",
          "data": {
            "image/png": "[encoded data removed]",
            "text/plain": [
              "<Figure size 432x288 with 1 Axes>"
            ]
          },
          "metadata": {
            "needs_background": "light"
          }
        },
        {
          "output_type": "display_data",
          "data": {
            "image/png": "[encoded data removed]",
            "text/plain": [
              "<Figure size 432x288 with 1 Axes>"
            ]
          },
          "metadata": {
            "needs_background": "light"
          }
        },
        {
          "output_type": "display_data",
          "data": {
            "image/png": "[encoded data removed]",
            "text/plain": [
              "<Figure size 432x288 with 1 Axes>"
            ]
          },
          "metadata": {
            "needs_background": "light"
          }
        },
        {
          "output_type": "display_data",
          "data": {
            "image/png": "[encoded data removed]",
            "text/plain": [
              "<Figure size 432x288 with 1 Axes>"
            ]
          },
          "metadata": {
            "needs_background": "light"
          }
        },
        {
          "output_type": "display_data",
          "data": {
            "image/png": "[encoded data removed]",
            "text/plain": [
              "<Figure size 432x288 with 1 Axes>"
            ]
          },
          "metadata": {
            "needs_background": "light"
          }
        },
        {
          "output_type": "display_data",
          "data": {
            "image/png": "[encoded data removed]",
            "text/plain": [
              "<Figure size 432x288 with 1 Axes>"
            ]
          },
          "metadata": {
            "needs_background": "light"
          }
        },
        {
          "output_type": "display_data",
          "data": {
            "image/png": "[encoded data removed]",
            "text/plain": [
              "<Figure size 432x288 with 1 Axes>"
            ]
          },
          "metadata": {
            "needs_background": "light"
          }
        },
        {
          "output_type": "display_data",
          "data": {
            "image/png": "[encoded data removed]",
            "text/plain": [
              "<Figure size 432x288 with 1 Axes>"
            ]
          },
          "metadata": {
            "needs_background": "light"
          }
        },
        {
          "output_type": "display_data",
          "data": {
            "image/png": "[encoded data removed]",
            "text/plain": [
              "<Figure size 432x288 with 1 Axes>"
            ]
          },
          "metadata": {
            "needs_background": "light"
          }
        },
        {
          "output_type": "display_data",
          "data": {
            "text/plain": [
              "<Figure size 432x288 with 0 Axes>"
            ]
          },
          "metadata": {}
        }
      ]
    },
    {
      "cell_type": "markdown",
      "metadata": {
        "id": "VQXUJaKcBXvK"
      },
      "source": [
        "#Predict the Output"
      ]
    },
    {
      "cell_type": "code",
      "metadata": {
        "colab": {
          "base_uri": "https://localhost:8080/"
        },
        "id": "F5dwrYDBBgMH",
        "outputId": "9a03fd2b-b3f7-44ed-83dd-b05b319314f9"
      },
      "source": [
        "import numpy as np \n",
        "y_pred = model.predict(x_test)\n",
        "y_pred"
      ],
      "execution_count": 107,
      "outputs": [
        {
          "output_type": "execute_result",
          "data": {
            "text/plain": [
              "array([[5.1788903e-12, 3.8072280e-19, 5.3606291e-16, ..., 9.9999702e-01,\n",
              "        2.1253495e-14, 8.5260764e-13],\n",
              "       [4.5193109e-27, 1.8025439e-15, 1.0000000e+00, ..., 3.7222440e-31,\n",
              "        2.5545495e-26, 0.0000000e+00],\n",
              "       [4.8366357e-19, 1.0000000e+00, 9.5612984e-10, ..., 4.5428744e-10,\n",
              "        4.1795383e-11, 7.4853869e-19],\n",
              "       ...,\n",
              "       [1.1608017e-26, 1.2998008e-22, 1.7994379e-31, ..., 2.1659953e-16,\n",
              "        3.2828411e-15, 7.8519988e-15],\n",
              "       [1.2543148e-22, 1.9333907e-22, 6.2044657e-27, ..., 1.0882793e-24,\n",
              "        4.9843707e-13, 7.8345258e-30],\n",
              "       [1.3592656e-25, 1.0367408e-25, 1.5580753e-22, ..., 1.3598423e-31,\n",
              "        4.2028901e-29, 5.9617708e-27]], dtype=float32)"
            ]
          },
          "metadata": {},
          "execution_count": 107
        }
      ]
    },
    {
      "cell_type": "code",
      "metadata": {
        "colab": {
          "base_uri": "https://localhost:8080/"
        },
        "id": "aU0R0BKIBpOS",
        "outputId": "6b8ce286-ad98-4ef9-8e51-b976fa26a2e3"
      },
      "source": [
        "y_pred = np.argmax(y_pred,axis = 1)\n",
        "y_pred"
      ],
      "execution_count": 108,
      "outputs": [
        {
          "output_type": "execute_result",
          "data": {
            "text/plain": [
              "array([7, 2, 1, ..., 4, 5, 6])"
            ]
          },
          "metadata": {},
          "execution_count": 108
        }
      ]
    },
    {
      "cell_type": "code",
      "metadata": {
        "colab": {
          "base_uri": "https://localhost:8080/"
        },
        "id": "0WSKEYi1CM05",
        "outputId": "67eb24df-4281-4ca7-e7d3-d0cb72298ea3"
      },
      "source": [
        "y_test"
      ],
      "execution_count": 109,
      "outputs": [
        {
          "output_type": "execute_result",
          "data": {
            "text/plain": [
              "array([7, 2, 1, ..., 4, 5, 6], dtype=uint8)"
            ]
          },
          "metadata": {},
          "execution_count": 109
        }
      ]
    },
    {
      "cell_type": "markdown",
      "metadata": {
        "id": "JZrcNLVTCmBq"
      },
      "source": [
        "#Checking the Accuracy Score"
      ]
    },
    {
      "cell_type": "code",
      "metadata": {
        "colab": {
          "base_uri": "https://localhost:8080/"
        },
        "id": "3f1J0VewCaEc",
        "outputId": "c1dcb8f9-792b-4252-aacf-a65bf97b41f4"
      },
      "source": [
        "from sklearn.metrics import accuracy_score \n",
        "accuracy_score(y_pred,y_test)"
      ],
      "execution_count": 110,
      "outputs": [
        {
          "output_type": "execute_result",
          "data": {
            "text/plain": [
              "0.9786"
            ]
          },
          "metadata": {},
          "execution_count": 110
        }
      ]
    },
    {
      "cell_type": "markdown",
      "metadata": {
        "id": "HgvRLw-RDleE"
      },
      "source": [
        "#Save the Model"
      ]
    },
    {
      "cell_type": "code",
      "metadata": {
        "id": "pwrxa81CC19R"
      },
      "source": [
        " #Saving a model for further usage\n",
        "model.save('Digitsrecognize_mnist.hdf5') "
      ],
      "execution_count": 111,
      "outputs": []
    }
  ]
}
{
  "nbformat": 4,
  "nbformat_minor": 0,
  "metadata": {
    "colab": {
      "name": "Copy of Major.ipynb",
      "private_outputs": true,
      "provenance": [],
      "collapsed_sections": [],
      "mount_file_id": "1w3Xen5uhygMRrpr9Pbbd-0HQkyw6KiGC",
      "authorship_tag": "ABX9TyOV2g0K3itgi+oLNFD4ppBq",
      "include_colab_link": true
    },
    "kernelspec": {
      "name": "python3",
      "display_name": "Python 3"
    },
    "language_info": {
      "name": "python"
    },
    "accelerator": "GPU"
  },
  "cells": [
    {
      "cell_type": "markdown",
      "metadata": {
        "id": "view-in-github",
        "colab_type": "text"
      },
      "source": [
        "<a href=\"https://colab.research.google.com/github/chodisettihenry/Labpractice/blob/main/Copy_of_Major.ipynb\" target=\"_parent\"><img src=\"https://colab.research.google.com/assets/colab-badge.svg\" alt=\"Open In Colab\"/></a>"
      ]
    },
    {
      "cell_type": "markdown",
      "metadata": {
        "id": "aasK1v7fHUud"
      },
      "source": [
        "**NAME:CHODISETTY MATHEW HENRY**\n",
        "\n",
        "**Gmail:chodisettisatish2248@gmail.com**"
      ]
    },
    {
      "cell_type": "markdown",
      "metadata": {
        "id": "H71z68pkH3Vx"
      },
      "source": [
        "**Project Name:Artificial Intelligence October Major Project**"
      ]
    },
    {
      "cell_type": "markdown",
      "metadata": {
        "id": "XewM8MlKId9L"
      },
      "source": [
        "**Project Description:**\n",
        "\n",
        "\n",
        "**Creating a custom yolo v5 model to detect if a person is wearing a mask or not**\n",
        "\n",
        "**Weights – last.pt (it should not be yolov5s.pt)(we need to train our own model)**"
      ]
    },
    {
      "cell_type": "code",
      "metadata": {
        "id": "Uz1ay7J6B8lQ"
      },
      "source": [
        "from google.colab import drive\n",
        "drive.mount('/content/drive')"
      ],
      "execution_count": null,
      "outputs": []
    },
    {
      "cell_type": "code",
      "metadata": {
        "id": "dxXsbb0VCL8W"
      },
      "source": [
        "cd \"/content/drive/MyDrive/Colab Notebooks/yolo\""
      ],
      "execution_count": null,
      "outputs": []
    },
    {
      "cell_type": "code",
      "metadata": {
        "id": "5sTDUqC8CYnR"
      },
      "source": [
        "ls"
      ],
      "execution_count": null,
      "outputs": []
    },
    {
      "cell_type": "markdown",
      "metadata": {
        "id": "ZNUhRWgiCdM_"
      },
      "source": [
        "**Working Directory**"
      ]
    },
    {
      "cell_type": "code",
      "metadata": {
        "id": "OM6ryE8FClm3"
      },
      "source": [
        "pwd"
      ],
      "execution_count": null,
      "outputs": []
    },
    {
      "cell_type": "markdown",
      "metadata": {
        "id": "1XH8kh6FCpb8"
      },
      "source": [
        "**Downloading the yolo v5 folder**"
      ]
    },
    {
      "cell_type": "code",
      "metadata": {
        "id": "hT9OvS9wCoJz"
      },
      "source": [
        "!git clone  https://github.com/ultralytics/yolov5"
      ],
      "execution_count": null,
      "outputs": []
    },
    {
      "cell_type": "code",
      "metadata": {
        "id": "BoXH2l1jD4ES"
      },
      "source": [
        "ls"
      ],
      "execution_count": null,
      "outputs": []
    },
    {
      "cell_type": "code",
      "metadata": {
        "id": "lmYQ1cPQD8xM"
      },
      "source": [
        "cd yolov5/"
      ],
      "execution_count": null,
      "outputs": []
    },
    {
      "cell_type": "code",
      "metadata": {
        "id": "K-Y4rQxCECP3"
      },
      "source": [
        " pip install -r requirements.txt"
      ],
      "execution_count": null,
      "outputs": []
    },
    {
      "cell_type": "code",
      "metadata": {
        "id": "UcO8vMECEVwf"
      },
      "source": [
        "import torch\n",
        "\n",
        "# Model\n",
        "model = torch.hub.load('ultralytics/yolov5', 'yolov5s')  # or yolov5m, yolov5l, yolov5x, custom\n",
        "\n",
        "# Images\n",
        "img = 'https://ultralytics.com/images/zidane.jpg'  # or file, Path, PIL, OpenCV, numpy, list\n",
        "\n",
        "# Inference\n",
        "results = model(img)\n",
        "\n",
        "# Results\n",
        "results.print()  # or .show(), .save(), .crop(), .pandas(), etc"
      ],
      "execution_count": null,
      "outputs": []
    },
    {
      "cell_type": "code",
      "metadata": {
        "id": "-xh631qWEpey"
      },
      "source": [
        "!python train.py --img 640 --batch 16 --epochs 50 --data custom.yaml --weights yolov5x.pt --nosave --cache"
      ],
      "execution_count": null,
      "outputs": []
    },
    {
      "cell_type": "markdown",
      "metadata": {
        "id": "KO-hTJkrhx6V"
      },
      "source": [
        "**Detect the Image**"
      ]
    },
    {
      "cell_type": "code",
      "metadata": {
        "id": "r8GVEeGO633m"
      },
      "source": [
        "!python detect.py --weights runs/train/exp7/weights/last.pt --img 640 --conf 0.25 --source test/images"
      ],
      "execution_count": null,
      "outputs": []
    },
    {
      "cell_type": "markdown",
      "metadata": {
        "id": "idE8XdMNEKX6"
      },
      "source": [
        "**Displaying Result Images**"
      ]
    },
    {
      "cell_type": "code",
      "metadata": {
        "id": "mN0gaFhrEFFi"
      },
      "source": [
        "import glob\n",
        "from IPython.display import Image, display\n",
        "\n",
        "for imageName in glob.glob('/content/drive/MyDrive/Colab Notebooks/yolo/yolov5/runs/detect/exp/*.jpg'):\n",
        "    display(Image(filename=imageName))\n",
        "    print(\"\\n\")"
      ],
      "execution_count": null,
      "outputs": []
    }
  ]
}